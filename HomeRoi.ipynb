{
 "cells": [
  {
   "cell_type": "code",
   "execution_count": 6,
   "id": "acd867b4",
   "metadata": {},
   "outputs": [
    {
     "name": "stdout",
     "output_type": "stream",
     "text": [
      "9.36%\n"
     ]
    }
   ],
   "source": [
    "def cash_on_cash(monthly_income, monthly_expenses, total_investment):\n",
    "    monthly_cash_flow = monthly_income - monthly_expenses\n",
    "    annual_cash_flow = monthly_cash_flow * 12\n",
    "    cash_roi = (annual_cash_flow / total_investment) * 100\n",
    "    print(f\"{cash_roi}%\")\n",
    "    \n",
    "    \n",
    "cash_on_cash(2000, 1610, 50000)    \n",
    "    \n",
    "    \n",
    "    \n",
    "    \n",
    "    \n",
    "    "
   ]
  },
  {
   "cell_type": "code",
   "execution_count": null,
   "id": "24ededab",
   "metadata": {},
   "outputs": [],
   "source": []
  }
 ],
 "metadata": {
  "kernelspec": {
   "display_name": "Python 3 (ipykernel)",
   "language": "python",
   "name": "python3"
  },
  "language_info": {
   "codemirror_mode": {
    "name": "ipython",
    "version": 3
   },
   "file_extension": ".py",
   "mimetype": "text/x-python",
   "name": "python",
   "nbconvert_exporter": "python",
   "pygments_lexer": "ipython3",
   "version": "3.11.5"
  }
 },
 "nbformat": 4,
 "nbformat_minor": 5
}
